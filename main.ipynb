{
 "cells": [
  {
   "attachments": {},
   "cell_type": "markdown",
   "metadata": {},
   "source": [
    "# Exercises-MRI-segmentation\n",
    "\n",
    "Coding exercises for appying to the position at the Paris Brain Institute. The base code is taken from the following tutorial: https://colab.research.google.com/github/fepegar/torchio-notebooks/blob/main/notebooks/TorchIO_MONAI_PyTorch_Lightning.ipynb#scrollTo=QixbF3koO99H. "
   ]
  },
  {
   "attachments": {},
   "cell_type": "markdown",
   "metadata": {},
   "source": [
    "# Imports, configuration dict and data preparation"
   ]
  },
  {
   "cell_type": "code",
   "execution_count": 3,
   "metadata": {},
   "outputs": [
    {
     "name": "stderr",
     "output_type": "stream",
     "text": [
      "c:\\Users\\simon\\anaconda3.gz\\envs\\torch-v2-gpu\\lib\\site-packages\\tqdm\\auto.py:21: TqdmWarning: IProgress not found. Please update jupyter and ipywidgets. See https://ipywidgets.readthedocs.io/en/stable/user_install.html\n",
      "  from .autonotebook import tqdm as notebook_tqdm\n"
     ]
    }
   ],
   "source": [
    "# imports\n",
    "import torch\n",
    "import monai\n",
    "\n",
    "from utils.plotting import plot_image_label\n",
    "from utils.trainer_class import Trainer\n",
    "from utils.data_class import MedicalDecathlonDataModule\n",
    "from utils.other_utils import assert_config\n",
    "\n",
    "%load_ext autoreload\n",
    "%autoreload 2"
   ]
  },
  {
   "cell_type": "code",
   "execution_count": 4,
   "metadata": {},
   "outputs": [
    {
     "name": "stdout",
     "output_type": "stream",
     "text": [
      "Config file parameters:\n",
      "  -task: Task04_Hippocampus\n",
      "  -google_id: 1RzPB1_bqzQhlWvU-YGvZzhx2omcDh38C\n",
      "  -batch_size: 16\n",
      "  -train_val_ratio: 0.8\n",
      "  -epochs: 10\n",
      "  -lr: 0.01\n",
      "  -early_stopping: -1\n",
      "  -mixed_precision: True\n",
      "  -Nit: 8\n",
      "  -train_from_checkpoint: None\n",
      "  -fine_tune: False\n",
      "  -best_models_dir: best_models\n",
      "  -random_seed: 42\n"
     ]
    }
   ],
   "source": [
    "# config file for hyperparameters\n",
    "config = {\n",
    "    \"task\": \"Task04_Hippocampus\",\n",
    "    \"google_id\": \"1RzPB1_bqzQhlWvU-YGvZzhx2omcDh38C\",\n",
    "    \"batch_size\": 16,  # batch size for the training\n",
    "    \"train_val_ratio\": 0.8,  # ratio of training samples to validation samples\n",
    "    \"epochs\": 10,  # number of epochs for the training\n",
    "    \"lr\": 1e-2,  # learning rate\n",
    "    \"early_stopping\": -1,  # -1 to disable, else insert patience\n",
    "    \"mixed_precision\": True,  # True to use mixed precision, else False\n",
    "    \"Nit\": 8,  # number of iterations for the training loop, None if you want to do all\n",
    "    \"train_from_checkpoint\": None,  # None to train from scratch, else insert path to the model weights\n",
    "    \"fine_tune\": False,  # True to fine-tune the model, else False to train from scratch\n",
    "    \"best_models_dir\": \"best_models\",  # directory where the best models will be saved\n",
    "    \"random_seed\": 42,  # random seed for reproducibility\n",
    "}\n",
    "\n",
    "assert_config(config)\n",
    "\n",
    "print(f\"Config file parameters:\")\n",
    "for key, value in config.items():\n",
    "    print(f\"  -{key}: {value}\")"
   ]
  },
  {
   "cell_type": "code",
   "execution_count": 5,
   "metadata": {},
   "outputs": [
    {
     "name": "stdout",
     "output_type": "stream",
     "text": [
      "Random seed set to 42\n"
     ]
    }
   ],
   "source": [
    "# set the random seed\n",
    "torch.manual_seed(config[\"random_seed\"])\n",
    "print(f\"Random seed set to {config['random_seed']}\")\n",
    "\n",
    "# data download & preparation\n",
    "data = MedicalDecathlonDataModule(\n",
    "    task=config[\"task\"],\n",
    "    google_id=config[\"google_id\"],\n",
    "    batch_size=config[\"batch_size\"],\n",
    "    train_val_ratio=config[\"train_val_ratio\"],\n",
    ")\n",
    "\n",
    "data.prepare_data()\n",
    "data.setup()\n",
    "\n",
    "train_data_loader = data.train_dataloader()\n",
    "val_data_loader = data.val_dataloader()\n",
    "test_data_loader = data.test_dataloader()"
   ]
  },
  {
   "cell_type": "code",
   "execution_count": 6,
   "metadata": {},
   "outputs": [
    {
     "name": "stdout",
     "output_type": "stream",
     "text": [
      "\n",
      "Training samples: 208\n",
      "Train data loader length: 13\n",
      "\n",
      "Validation samples: 52\n",
      "Val data loader length: 4\n",
      "\n",
      "Test samples: 130\n",
      "Test data loader length: 9\n"
     ]
    }
   ],
   "source": [
    "print(f\"\\nTraining samples: {len(data.train_set)}\")\n",
    "print(f\"Train data loader length: {len(train_data_loader)}\")\n",
    "\n",
    "print(f\"\\nValidation samples: {len(data.val_set)}\")\n",
    "print(f\"Val data loader length: {len(val_data_loader)}\")\n",
    "\n",
    "print(f\"\\nTest samples: {len(data.test_set)}\")\n",
    "print(f\"Test data loader length: {len(test_data_loader)}\")"
   ]
  },
  {
   "attachments": {},
   "cell_type": "markdown",
   "metadata": {},
   "source": [
    "# Visualize a training sample"
   ]
  },
  {
   "cell_type": "code",
   "execution_count": 7,
   "metadata": {},
   "outputs": [
    {
     "name": "stdout",
     "output_type": "stream",
     "text": [
      "The shape of the data is torch.Size([16, 1, 48, 64, 48])\n"
     ]
    },
    {
     "data": {
      "image/png": "[encoded data removed]",
      "text/plain": [
       "<Figure size 1200x600 with 2 Axes>"
      ]
     },
     "metadata": {},
     "output_type": "display_data"
    }
   ],
   "source": [
    "# visualize a training example from train_loader\n",
    "batch = next(iter(train_data_loader))\n",
    "\n",
    "batch_image = batch[\"image\"][\"data\"]\n",
    "batch_label = batch[\"label\"][\"data\"]\n",
    "\n",
    "print(f\"The shape of the data is {batch_image.shape}\")\n",
    "\n",
    "plot_image_label(batch_image, batch_label, slice_idx=30)"
   ]
  },
  {
   "attachments": {},
   "cell_type": "markdown",
   "metadata": {},
   "source": [
    "# Define the model"
   ]
  },
  {
   "cell_type": "code",
   "execution_count": 8,
   "metadata": {},
   "outputs": [
    {
     "name": "stderr",
     "output_type": "stream",
     "text": [
      "c:\\Users\\simon\\anaconda3.gz\\envs\\torch-v2-gpu\\lib\\site-packages\\monai\\utils\\deprecate_utils.py:219: FutureWarning: monai.networks.nets.unet UNet.__init__:dimensions: Argument `dimensions` has been deprecated since version 0.6. Please use `spatial_dims` instead.\n",
      "  warn_deprecated(argname, msg, warning_category)\n"
     ]
    }
   ],
   "source": [
    "# U-Net model from monai\n",
    "model = monai.networks.nets.UNet(\n",
    "    dimensions=3,\n",
    "    in_channels=1,\n",
    "    out_channels=3,\n",
    "    channels=(8, 16, 32, 64),\n",
    "    strides=(2, 2, 2),\n",
    ")\n",
    "\n",
    "# dice cross entropy loss\n",
    "criterion = monai.losses.DiceCELoss(softmax=True)\n",
    "\n",
    "# AdamW optimizer\n",
    "optimizer = torch.optim.AdamW(model.parameters(), lr=config[\"lr\"])\n",
    "\n",
    "# device for gpu or cpu training\n",
    "device = torch.device(\"cuda\" if torch.cuda.is_available() else \"cpu\")"
   ]
  },
  {
   "attachments": {},
   "cell_type": "markdown",
   "metadata": {},
   "source": [
    "# Training Loop\n",
    "\n",
    "First define the Trainer object and then call Trainer.training_loop!"
   ]
  },
  {
   "cell_type": "code",
   "execution_count": 9,
   "metadata": {},
   "outputs": [
    {
     "name": "stdout",
     "output_type": "stream",
     "text": [
      "Nit is set to 8, training will stop after 8 iterations each epoch...\n",
      "\n",
      "Trainer summary:\n",
      "  -Model: UNet\n",
      "  -Loss function: DiceCELoss\n",
      "  -Optimizer: AdamW (\n",
      "Parameter Group 0\n",
      "    amsgrad: False\n",
      "    betas: (0.9, 0.999)\n",
      "    capturable: False\n",
      "    differentiable: False\n",
      "    eps: 1e-08\n",
      "    foreach: None\n",
      "    fused: None\n",
      "    lr: 0.01\n",
      "    maximize: False\n",
      "    weight_decay: 0.01\n",
      ")\n",
      "  -Device: cuda\n",
      "  -Epochs: 10\n",
      "  -Early stopping: -1\n",
      "  -Train from checkpoint: None\n",
      "  -Fine tune: False\n",
      "  -Best models dir: best_models\n",
      "  -Mixed precision: True\n",
      "  -Nit: 8\n",
      "  -Random seed: 42\n",
      "\n"
     ]
    }
   ],
   "source": [
    "# defining the trainer object\n",
    "trainer = Trainer(\n",
    "    train_data_loader=train_data_loader,\n",
    "    val_data_loader=val_data_loader,\n",
    "    device=device,\n",
    "    model=model,\n",
    "    criterion=criterion,\n",
    "    optimizer=optimizer,\n",
    "    **config\n",
    ")"
   ]
  },
  {
   "cell_type": "code",
   "execution_count": 10,
   "metadata": {},
   "outputs": [
    {
     "name": "stdout",
     "output_type": "stream",
     "text": [
      "Mixed precision: True\n",
      "Starting training...\n",
      "\n",
      "Epoch 1/10, train loss: 0.9931, val loss: 0.9351\n",
      "Epoch 2/10, train loss: 0.7475, val loss: 0.7216\n",
      "Epoch 3/10, train loss: 0.6873, val loss: 0.6464\n",
      "Epoch 4/10, train loss: 0.6185, val loss: 0.5751\n",
      "Epoch 5/10, train loss: 0.5756, val loss: 0.5321\n",
      "Epoch 6/10, train loss: 0.5497, val loss: 0.5090\n",
      "Epoch 7/10, train loss: 0.5583, val loss: 0.4993\n",
      "Epoch 8/10, train loss: 0.5052, val loss: 0.4773\n",
      "Epoch 9/10, train loss: 0.4787, val loss: 0.4594\n",
      "Epoch 10/10, train loss: 0.4589, val loss: 0.4533\n",
      "\n",
      "Best validation loss: 0.4533\n",
      "Saving the last model...\n",
      "Starting training...\n",
      "\n",
      "Epoch 1/10, train loss: 0.4501, val loss: 0.4226\n",
      "Epoch 2/10, train loss: 0.3929, val loss: 0.3700\n",
      "Epoch 3/10, train loss: 0.3340, val loss: 0.3083\n",
      "Epoch 4/10, train loss: 0.3182, val loss: 0.2687\n",
      "Epoch 5/10, train loss: 0.2632, val loss: 0.2342\n",
      "Epoch 6/10, train loss: 0.2676, val loss: 0.2457\n",
      "Epoch 7/10, train loss: 0.2713, val loss: 0.2316\n",
      "Epoch 8/10, train loss: 0.2526, val loss: 0.2434\n",
      "Epoch 9/10, train loss: 0.2481, val loss: 0.2201\n",
      "Epoch 10/10, train loss: 0.2341, val loss: 0.2401\n",
      "\n",
      "Best validation loss: 0.2201\n",
      "Saving the last model...\n",
      "Starting training...\n",
      "\n",
      "Epoch 1/10, train loss: 0.2577, val loss: 0.2278\n",
      "Epoch 2/10, train loss: 0.2155, val loss: 0.2172\n",
      "Epoch 3/10, train loss: 0.2186, val loss: 0.2361\n",
      "Epoch 4/10, train loss: 0.2376, val loss: 0.2269\n",
      "Epoch 5/10, train loss: 0.2245, val loss: 0.2207\n",
      "Epoch 6/10, train loss: 0.2245, val loss: 0.2142\n",
      "Epoch 7/10, train loss: 0.1966, val loss: 0.2051\n",
      "Epoch 8/10, train loss: 0.2333, val loss: 0.2155\n",
      "Epoch 9/10, train loss: 0.2082, val loss: 0.2204\n",
      "Epoch 10/10, train loss: 0.2426, val loss: 0.2078\n",
      "\n",
      "Best validation loss: 0.2051\n",
      "Saving the last model...\n",
      "Starting training...\n",
      "\n",
      "Epoch 1/10, train loss: 0.2136, val loss: 0.1998\n",
      "Epoch 2/10, train loss: 0.2190, val loss: 0.2110\n",
      "Epoch 3/10, train loss: 0.1969, val loss: 0.2109\n",
      "Epoch 4/10, train loss: 0.2036, val loss: 0.2010\n",
      "Epoch 5/10, train loss: 0.2073, val loss: 0.1976\n",
      "Epoch 6/10, train loss: 0.2011, val loss: 0.2005\n",
      "Epoch 7/10, train loss: 0.2304, val loss: 0.2058\n",
      "Epoch 8/10, train loss: 0.1956, val loss: 0.2185\n",
      "Epoch 9/10, train loss: 0.2051, val loss: 0.2100\n",
      "Epoch 10/10, train loss: 0.2242, val loss: 0.2201\n",
      "\n",
      "Best validation loss: 0.1976\n",
      "Saving the last model...\n",
      "Starting training...\n",
      "\n",
      "Epoch 1/10, train loss: 0.2017, val loss: 0.1995\n",
      "Epoch 2/10, train loss: 0.2101, val loss: 0.1957\n",
      "Epoch 3/10, train loss: 0.1877, val loss: 0.2075\n",
      "Epoch 4/10, train loss: 0.2370, val loss: 0.1898\n",
      "Epoch 5/10, train loss: 0.2080, val loss: 0.1971\n",
      "Epoch 6/10, train loss: 0.2112, val loss: 0.2004\n",
      "Epoch 7/10, train loss: 0.1918, val loss: 0.1890\n",
      "Epoch 8/10, train loss: 0.2169, val loss: 0.1878\n",
      "Epoch 9/10, train loss: 0.1923, val loss: 0.1865\n",
      "Epoch 10/10, train loss: 0.2089, val loss: 0.1897\n",
      "\n",
      "Best validation loss: 0.1865\n",
      "Saving the last model...\n",
      "Starting training...\n",
      "\n",
      "Epoch 1/10, train loss: 0.1904, val loss: 0.2061\n",
      "Epoch 2/10, train loss: 0.1894, val loss: 0.1833\n",
      "Epoch 3/10, train loss: 0.1914, val loss: 0.1818\n",
      "Epoch 4/10, train loss: 0.1865, val loss: 0.1858\n",
      "Epoch 5/10, train loss: 0.1782, val loss: 0.1949\n",
      "Epoch 6/10, train loss: 0.2051, val loss: 0.1891\n",
      "Epoch 7/10, train loss: 0.1945, val loss: 0.1899\n",
      "Epoch 8/10, train loss: 0.1761, val loss: 0.1932\n",
      "Epoch 9/10, train loss: 0.1851, val loss: 0.1924\n",
      "Epoch 10/10, train loss: 0.2119, val loss: 0.1870\n",
      "\n",
      "Best validation loss: 0.1818\n",
      "Saving the last model...\n",
      "Starting training...\n",
      "\n",
      "Epoch 1/10, train loss: 0.1999, val loss: 0.1802\n",
      "Epoch 2/10, train loss: 0.1922, val loss: 0.1876\n",
      "Epoch 3/10, train loss: 0.1997, val loss: 0.1888\n",
      "Epoch 4/10, train loss: 0.1999, val loss: 0.1876\n",
      "Epoch 5/10, train loss: 0.1896, val loss: 0.1810\n",
      "Epoch 6/10, train loss: 0.1736, val loss: 0.1735\n",
      "Epoch 7/10, train loss: 0.1897, val loss: 0.1935\n",
      "Epoch 8/10, train loss: 0.1867, val loss: 0.1869\n",
      "Epoch 9/10, train loss: 0.1926, val loss: 0.1769\n",
      "Epoch 10/10, train loss: 0.1735, val loss: 0.1925\n",
      "\n",
      "Best validation loss: 0.1735\n",
      "Saving the last model...\n",
      "Starting training...\n",
      "\n",
      "Epoch 1/10, train loss: 0.1799, val loss: 0.1896\n",
      "Epoch 2/10, train loss: 0.1964, val loss: 0.1869\n",
      "Epoch 3/10, train loss: 0.1835, val loss: 0.1876\n",
      "Epoch 4/10, train loss: 0.1735, val loss: 0.1740\n",
      "Epoch 5/10, train loss: 0.1845, val loss: 0.1862\n",
      "Epoch 6/10, train loss: 0.1986, val loss: 0.1868\n",
      "Epoch 7/10, train loss: 0.1902, val loss: 0.1800\n",
      "Epoch 8/10, train loss: 0.1911, val loss: 0.1729\n",
      "Epoch 9/10, train loss: 0.1979, val loss: 0.1827\n",
      "Epoch 10/10, train loss: 0.1778, val loss: 0.1782\n",
      "\n",
      "Best validation loss: 0.1729\n",
      "Saving the last model...\n",
      "Starting training...\n",
      "\n",
      "Epoch 1/10, train loss: 0.1886, val loss: 0.1817\n",
      "Epoch 2/10, train loss: 0.1930, val loss: 0.1930\n",
      "Epoch 3/10, train loss: 0.1986, val loss: 0.1862\n",
      "Epoch 4/10, train loss: 0.1997, val loss: 0.1798\n",
      "Epoch 5/10, train loss: 0.1863, val loss: 0.1842\n",
      "Epoch 6/10, train loss: 0.2029, val loss: 0.1852\n",
      "Epoch 7/10, train loss: 0.1901, val loss: 0.1790\n",
      "Epoch 8/10, train loss: 0.2026, val loss: 0.1891\n",
      "Epoch 9/10, train loss: 0.1715, val loss: 0.1837\n",
      "Epoch 10/10, train loss: 0.1712, val loss: 0.1693\n",
      "\n",
      "Best validation loss: 0.1693\n",
      "Saving the last model...\n",
      "Starting training...\n",
      "\n",
      "Epoch 1/10, train loss: 0.1954, val loss: 0.1961\n",
      "Epoch 2/10, train loss: 0.1878, val loss: 0.1815\n",
      "Epoch 3/10, train loss: 0.2027, val loss: 0.1822\n",
      "Epoch 4/10, train loss: 0.1891, val loss: 0.1848\n",
      "Epoch 5/10, train loss: 0.1703, val loss: 0.1808\n",
      "Epoch 6/10, train loss: 0.2091, val loss: 0.1805\n",
      "Epoch 7/10, train loss: 0.1943, val loss: 0.1905\n",
      "Epoch 8/10, train loss: 0.1879, val loss: 0.1714\n",
      "Epoch 9/10, train loss: 0.1760, val loss: 0.1757\n",
      "Epoch 10/10, train loss: 0.1906, val loss: 0.1768\n",
      "\n",
      "Best validation loss: 0.1714\n",
      "Saving the last model...\n",
      "Average training time: 126.06096675395966\n"
     ]
    }
   ],
   "source": [
    "# track training time\n",
    "import time\n",
    "\n",
    "print(f\"Mixed precision: {config['mixed_precision']}\")\n",
    "\n",
    "times_1 = []\n",
    "for _ in range(10):\n",
    "    start_time = time.time()\n",
    "    # starting the training loop\n",
    "    trainer.training_loop()\n",
    "    end_time = time.time()\n",
    "    times_1.append(end_time - start_time)\n",
    "\n",
    "print(f\"Average training time: {sum(times_1) / len(times_1)}\")"
   ]
  },
  {
   "cell_type": "code",
   "execution_count": 13,
   "metadata": {},
   "outputs": [
    {
     "name": "stdout",
     "output_type": "stream",
     "text": [
      "Mixed precision: False\n",
      "Starting training...\n",
      "\n",
      "Epoch 1/10, train loss: 0.1691, val loss: 0.1769\n",
      "Epoch 2/10, train loss: 0.1601, val loss: 0.1796\n",
      "Epoch 3/10, train loss: 0.1727, val loss: 0.1703\n",
      "Epoch 4/10, train loss: 0.1694, val loss: 0.1693\n",
      "Epoch 5/10, train loss: 0.1881, val loss: 0.1768\n",
      "Epoch 6/10, train loss: 0.1809, val loss: 0.1886\n",
      "Epoch 7/10, train loss: 0.1776, val loss: 0.1764\n",
      "Epoch 8/10, train loss: 0.1636, val loss: 0.1864\n",
      "Epoch 9/10, train loss: 0.1723, val loss: 0.1854\n",
      "Epoch 10/10, train loss: 0.1874, val loss: 0.1755\n",
      "\n",
      "Best validation loss: 0.1693\n",
      "Saving the last model...\n",
      "Starting training...\n",
      "\n",
      "Epoch 1/10, train loss: 0.1644, val loss: 0.1712\n",
      "Epoch 2/10, train loss: 0.1790, val loss: 0.1899\n",
      "Epoch 3/10, train loss: 0.1774, val loss: 0.1750\n",
      "Epoch 4/10, train loss: 0.1582, val loss: 0.1785\n",
      "Epoch 5/10, train loss: 0.1678, val loss: 0.1787\n",
      "Epoch 6/10, train loss: 0.1638, val loss: 0.1753\n",
      "Epoch 7/10, train loss: 0.1950, val loss: 0.1779\n",
      "Epoch 8/10, train loss: 0.1657, val loss: 0.1772\n",
      "Epoch 9/10, train loss: 0.1607, val loss: 0.1846\n",
      "Epoch 10/10, train loss: 0.1826, val loss: 0.1845\n",
      "\n",
      "Best validation loss: 0.1712\n",
      "Saving the last model...\n",
      "Starting training...\n",
      "\n",
      "Epoch 1/10, train loss: 0.1715, val loss: 0.1808\n",
      "Epoch 2/10, train loss: 0.1887, val loss: 0.1815\n",
      "Epoch 3/10, train loss: 0.1650, val loss: 0.1793\n",
      "Epoch 4/10, train loss: 0.1568, val loss: 0.1697\n",
      "Epoch 5/10, train loss: 0.1670, val loss: 0.1681\n",
      "Epoch 6/10, train loss: 0.1635, val loss: 0.1687\n",
      "Epoch 7/10, train loss: 0.1673, val loss: 0.1715\n",
      "Epoch 8/10, train loss: 0.1601, val loss: 0.1720\n",
      "Epoch 9/10, train loss: 0.1611, val loss: 0.1772\n",
      "Epoch 10/10, train loss: 0.1906, val loss: 0.1765\n",
      "\n",
      "Best validation loss: 0.1681\n",
      "Saving the last model...\n",
      "Starting training...\n",
      "\n",
      "Epoch 1/10, train loss: 0.1640, val loss: 0.1740\n",
      "Epoch 2/10, train loss: 0.1731, val loss: 0.1771\n",
      "Epoch 3/10, train loss: 0.1559, val loss: 0.1732\n",
      "Epoch 4/10, train loss: 0.1646, val loss: 0.1838\n",
      "Epoch 5/10, train loss: 0.1761, val loss: 0.1826\n",
      "Epoch 6/10, train loss: 0.1557, val loss: 0.1881\n",
      "Epoch 7/10, train loss: 0.1651, val loss: 0.1856\n",
      "Epoch 8/10, train loss: 0.1671, val loss: 0.1715\n",
      "Epoch 9/10, train loss: 0.1735, val loss: 0.1689\n",
      "Epoch 10/10, train loss: 0.1728, val loss: 0.1671\n",
      "\n",
      "Best validation loss: 0.1671\n",
      "Saving the last model...\n",
      "Starting training...\n",
      "\n",
      "Epoch 1/10, train loss: 0.1693, val loss: 0.1698\n",
      "Epoch 2/10, train loss: 0.1596, val loss: 0.1688\n",
      "Epoch 3/10, train loss: 0.1554, val loss: 0.1697\n",
      "Epoch 4/10, train loss: 0.1699, val loss: 0.1741\n",
      "Epoch 5/10, train loss: 0.1814, val loss: 0.1735\n",
      "Epoch 6/10, train loss: 0.1658, val loss: 0.1739\n",
      "Epoch 7/10, train loss: 0.1657, val loss: 0.1699\n",
      "Epoch 8/10, train loss: 0.1655, val loss: 0.1724\n",
      "Epoch 9/10, train loss: 0.1721, val loss: 0.1658\n",
      "Epoch 10/10, train loss: 0.1622, val loss: 0.1721\n",
      "\n",
      "Best validation loss: 0.1658\n",
      "Saving the last model...\n",
      "Starting training...\n",
      "\n",
      "Epoch 1/10, train loss: 0.1714, val loss: 0.1664\n",
      "Epoch 2/10, train loss: 0.1674, val loss: 0.1746\n",
      "Epoch 3/10, train loss: 0.1577, val loss: 0.1768\n",
      "Epoch 4/10, train loss: 0.1748, val loss: 0.1697\n",
      "Epoch 5/10, train loss: 0.1660, val loss: 0.1723\n",
      "Epoch 6/10, train loss: 0.1826, val loss: 0.1726\n",
      "Epoch 7/10, train loss: 0.1780, val loss: 0.1689\n",
      "Epoch 8/10, train loss: 0.1538, val loss: 0.1698\n",
      "Epoch 9/10, train loss: 0.1600, val loss: 0.1698\n",
      "Epoch 10/10, train loss: 0.1788, val loss: 0.1646\n",
      "\n",
      "Best validation loss: 0.1646\n",
      "Saving the last model...\n",
      "Starting training...\n",
      "\n",
      "Epoch 1/10, train loss: 0.1577, val loss: 0.1702\n",
      "Epoch 2/10, train loss: 0.1686, val loss: 0.1652\n",
      "Epoch 3/10, train loss: 0.1506, val loss: 0.1633\n",
      "Epoch 4/10, train loss: 0.1634, val loss: 0.1684\n",
      "Epoch 5/10, train loss: 0.1577, val loss: 0.1658\n",
      "Epoch 6/10, train loss: 0.1625, val loss: 0.1630\n",
      "Epoch 7/10, train loss: 0.1587, val loss: 0.1668\n",
      "Epoch 8/10, train loss: 0.1623, val loss: 0.1627\n",
      "Epoch 9/10, train loss: 0.1633, val loss: 0.1681\n",
      "Epoch 10/10, train loss: 0.1611, val loss: 0.1681\n",
      "\n",
      "Best validation loss: 0.1627\n",
      "Saving the last model...\n",
      "Starting training...\n",
      "\n",
      "Epoch 1/10, train loss: 0.1697, val loss: 0.1770\n",
      "Epoch 2/10, train loss: 0.1604, val loss: 0.1785\n",
      "Epoch 3/10, train loss: 0.1589, val loss: 0.1780\n",
      "Epoch 4/10, train loss: 0.1691, val loss: 0.1687\n",
      "Epoch 5/10, train loss: 0.1665, val loss: 0.1728\n",
      "Epoch 6/10, train loss: 0.1625, val loss: 0.1710\n",
      "Epoch 7/10, train loss: 0.1810, val loss: 0.1744\n",
      "Epoch 8/10, train loss: 0.1586, val loss: 0.1703\n",
      "Epoch 9/10, train loss: 0.1592, val loss: 0.1737\n",
      "Epoch 10/10, train loss: 0.1817, val loss: 0.1767\n",
      "\n",
      "Best validation loss: 0.1687\n",
      "Saving the last model...\n",
      "Starting training...\n",
      "\n",
      "Epoch 1/10, train loss: 0.1675, val loss: 0.1686\n",
      "Epoch 2/10, train loss: 0.1556, val loss: 0.1686\n",
      "Epoch 3/10, train loss: 0.1733, val loss: 0.1670\n",
      "Epoch 4/10, train loss: 0.1723, val loss: 0.1697\n",
      "Epoch 5/10, train loss: 0.1740, val loss: 0.1642\n",
      "Epoch 6/10, train loss: 0.1546, val loss: 0.1665\n",
      "Epoch 7/10, train loss: 0.1551, val loss: 0.1758\n",
      "Epoch 8/10, train loss: 0.1810, val loss: 0.1748\n",
      "Epoch 9/10, train loss: 0.1686, val loss: 0.1765\n",
      "Epoch 10/10, train loss: 0.1682, val loss: 0.1727\n",
      "\n",
      "Best validation loss: 0.1642\n",
      "Saving the last model...\n",
      "Starting training...\n",
      "\n",
      "Epoch 1/10, train loss: 0.1601, val loss: 0.1638\n",
      "Epoch 2/10, train loss: 0.1531, val loss: 0.1781\n",
      "Epoch 3/10, train loss: 0.1648, val loss: 0.1728\n",
      "Epoch 4/10, train loss: 0.1946, val loss: 0.1686\n",
      "Epoch 5/10, train loss: 0.1643, val loss: 0.1624\n",
      "Epoch 6/10, train loss: 0.1606, val loss: 0.1751\n",
      "Epoch 7/10, train loss: 0.1776, val loss: 0.1710\n",
      "Epoch 8/10, train loss: 0.1623, val loss: 0.1743\n",
      "Epoch 9/10, train loss: 0.1859, val loss: 0.1765\n",
      "Epoch 10/10, train loss: 0.1535, val loss: 0.1789\n",
      "\n",
      "Best validation loss: 0.1624\n",
      "Saving the last model...\n",
      "Average training time: 128.04784677028655\n"
     ]
    }
   ],
   "source": [
    "# config[\"mixed_precision\"] = not(config[\"mixed_precision\"])\n",
    "trainer.mixed_precision = not(trainer.mixed_precision)\n",
    "print(f\"Mixed precision: {trainer.mixed_precision}\")\n",
    "\n",
    "times_2 = []\n",
    "for _ in range(10):\n",
    "    start_time = time.time()\n",
    "    # starting the training loop\n",
    "    trainer.training_loop()\n",
    "    end_time = time.time()\n",
    "    times_2.append(end_time - start_time)\n",
    "\n",
    "print(f\"Average training time: {sum(times_2) / len(times_2)}\")"
   ]
  },
  {
   "cell_type": "code",
   "execution_count": 14,
   "metadata": {},
   "outputs": [
    {
     "name": "stdout",
     "output_type": "stream",
     "text": [
      "Speedup: 0.9844833000597715\n",
      "[124.81179690361023, 123.06061005592346, 124.92455124855042, 125.77011299133301, 125.38619685173035, 123.58568072319031, 126.8952910900116, 128.45547604560852, 126.72262334823608, 130.9973282814026]\n",
      "[126.21548628807068, 126.77132487297058, 131.18803596496582, 129.23030018806458, 130.8431966304779, 128.70458722114563, 128.8739197254181, 126.04116606712341, 125.2091715335846, 127.40127921104431]\n"
     ]
    }
   ],
   "source": [
    "print(f\"Speedup: {sum(times_1) / len(times_1) / (sum(times_2) / len(times_2))}\")\n",
    "print(times_1)\n",
    "print(times_2)"
   ]
  },
  {
   "attachments": {},
   "cell_type": "markdown",
   "metadata": {},
   "source": [
    "# Testing the results"
   ]
  },
  {
   "cell_type": "code",
   "execution_count": null,
   "metadata": {},
   "outputs": [],
   "source": []
  },
  {
   "attachments": {},
   "cell_type": "markdown",
   "metadata": {},
   "source": [
    "# Fine-tuning thoughts\n",
    "\n",
    "To understand how to fine tune the model, I decided to print the model structure and shapes of the parameters it is made of. Then I saw that the last 2 sets of parameters corresponded to the last ConvTranspose3d and the corresponding bias, with shapes `torch.Size([16, 3, 3, 3, 3])` and `torch.Size([3])`. \n",
    "\n",
    "Hence I decided to freeze all the other weights and only keep thos for the fine-tuning."
   ]
  },
  {
   "cell_type": "code",
   "execution_count": null,
   "metadata": {},
   "outputs": [],
   "source": [
    "model"
   ]
  },
  {
   "cell_type": "code",
   "execution_count": null,
   "metadata": {},
   "outputs": [],
   "source": [
    "for param in list(model.parameters()):\n",
    "    print(param.shape)"
   ]
  }
 ],
 "metadata": {
  "kernelspec": {
   "display_name": "ParisBI",
   "language": "python",
   "name": "python3"
  },
  "language_info": {
   "codemirror_mode": {
    "name": "ipython",
    "version": 3
   },
   "file_extension": ".py",
   "mimetype": "text/x-python",
   "name": "python",
   "nbconvert_exporter": "python",
   "pygments_lexer": "ipython3",
   "version": "3.9.16"
  },
  "orig_nbformat": 4
 },
 "nbformat": 4,
 "nbformat_minor": 2
}
