{
 "cells": [
  {
   "attachments": {},
   "cell_type": "markdown",
   "metadata": {},
   "source": [
    "# Exercises-MRI-segmentation\n",
    "\n",
    "Coding exercises for appying to the position at the Paris Brain Institute. The base code is taken from the following tutorial: https://colab.research.google.com/github/fepegar/torchio-notebooks/blob/main/notebooks/TorchIO_MONAI_PyTorch_Lightning.ipynb#scrollTo=QixbF3koO99H. "
   ]
  },
  {
   "attachments": {},
   "cell_type": "markdown",
   "metadata": {},
   "source": [
    "# Imports, configuration dict and data preparation"
   ]
  },
  {
   "cell_type": "code",
   "execution_count": 1,
   "metadata": {},
   "outputs": [
    {
     "name": "stderr",
     "output_type": "stream",
     "text": [
      "c:\\Users\\simon\\anaconda3.gz\\envs\\torch-v2-gpu\\lib\\site-packages\\tqdm\\auto.py:21: TqdmWarning: IProgress not found. Please update jupyter and ipywidgets. See https://ipywidgets.readthedocs.io/en/stable/user_install.html\n",
      "  from .autonotebook import tqdm as notebook_tqdm\n"
     ]
    }
   ],
   "source": [
    "# imports\n",
    "import torch\n",
    "import monai\n",
    "import numpy as np\n",
    "\n",
    "from utils.trainer_class import Trainer\n",
    "from utils.data_class import MedicalDecathlonDataModule\n",
    "from utils.other_utils import assert_config, plot_image_label\n",
    "\n",
    "%load_ext autoreload\n",
    "%autoreload 2"
   ]
  },
  {
   "cell_type": "code",
   "execution_count": 2,
   "metadata": {},
   "outputs": [
    {
     "name": "stdout",
     "output_type": "stream",
     "text": [
      "Config file parameters:\n",
      "  -task: Task04_Hippocampus\n",
      "  -google_id: 1RzPB1_bqzQhlWvU-YGvZzhx2omcDh38C\n",
      "  -batch_size: 16\n",
      "  -train_val_ratio: 0.8\n",
      "  -epochs: 10\n",
      "  -lr: 0.01\n",
      "  -early_stopping: None\n",
      "  -mixed_precision: True\n",
      "  -Nit: None\n",
      "  -train_from_checkpoint: None\n",
      "  -fine_tune: False\n",
      "  -best_models_dir: best_models\n",
      "  -random_seed: 42\n"
     ]
    }
   ],
   "source": [
    "# config file for hyperparameters\n",
    "config = {\n",
    "    \"task\": \"Task04_Hippocampus\",\n",
    "    \"google_id\": \"1RzPB1_bqzQhlWvU-YGvZzhx2omcDh38C\",\n",
    "    \"batch_size\": 16,  # batch size for the training\n",
    "    \"train_val_ratio\": 0.8,  # ratio of training samples to validation samples\n",
    "    \"epochs\": 10,  # number of epochs for the training\n",
    "    \"lr\": 1e-2,  # learning rate\n",
    "    \"early_stopping\": None,  # None to disable, else insert patience > 0\n",
    "    \"mixed_precision\": True,  # True to use mixed precision, else False\n",
    "    \"Nit\": None,  # number of iterations for the training loop, None if you want to do all\n",
    "    \"train_from_checkpoint\": None,  # None to train from scratch, else insert path to the model weights\n",
    "    \"fine_tune\": False,  # True to fine-tune the model, else False to train from scratch\n",
    "    \"best_models_dir\": \"best_models\",  # directory where the best models will be saved\n",
    "    \"random_seed\": 42,  # random seed for reproducibility\n",
    "}\n",
    "\n",
    "assert_config(config)\n",
    "\n",
    "print(f\"Config file parameters:\")\n",
    "for key, value in config.items():\n",
    "    print(f\"  -{key}: {value}\")"
   ]
  },
  {
   "cell_type": "code",
   "execution_count": 21,
   "metadata": {},
   "outputs": [
    {
     "name": "stdout",
     "output_type": "stream",
     "text": [
      "Random seed set to 42\n"
     ]
    }
   ],
   "source": [
    "# set the random seed\n",
    "torch.manual_seed(config[\"random_seed\"])\n",
    "print(f\"Random seed set to {config['random_seed']}\")\n",
    "\n",
    "# data download & preparation\n",
    "data = MedicalDecathlonDataModule(\n",
    "    task=config[\"task\"],\n",
    "    google_id=config[\"google_id\"],\n",
    "    batch_size=config[\"batch_size\"],\n",
    "    train_val_ratio=config[\"train_val_ratio\"],\n",
    ")\n",
    "\n",
    "data.prepare_data()\n",
    "data.setup()\n",
    "\n",
    "train_data_loader = data.train_dataloader()\n",
    "val_data_loader = data.val_dataloader()\n",
    "test_data_loader = data.test_dataloader()"
   ]
  },
  {
   "cell_type": "code",
   "execution_count": 4,
   "metadata": {},
   "outputs": [
    {
     "name": "stdout",
     "output_type": "stream",
     "text": [
      "\n",
      "Training samples: 208\n",
      "Train data loader length: 13\n",
      "\n",
      "Validation samples: 52\n",
      "Val data loader length: 4\n",
      "\n",
      "Test samples: 130\n",
      "Test data loader length: 9\n"
     ]
    }
   ],
   "source": [
    "print(f\"\\nTraining samples: {len(data.train_set)}\")\n",
    "print(f\"Train data loader length: {len(train_data_loader)}\")\n",
    "\n",
    "print(f\"\\nValidation samples: {len(data.val_set)}\")\n",
    "print(f\"Val data loader length: {len(val_data_loader)}\")\n",
    "\n",
    "print(f\"\\nTest samples: {len(data.test_set)}\")\n",
    "print(f\"Test data loader length: {len(test_data_loader)}\")"
   ]
  },
  {
   "attachments": {},
   "cell_type": "markdown",
   "metadata": {},
   "source": [
    "# Visualize a training sample"
   ]
  },
  {
   "cell_type": "code",
   "execution_count": 5,
   "metadata": {},
   "outputs": [
    {
     "name": "stdout",
     "output_type": "stream",
     "text": [
      "The shape of the data is torch.Size([16, 1, 48, 64, 48])\n",
      "The shape of the label is torch.Size([16, 3, 48, 64, 48])\n"
     ]
    },
    {
     "data": {
      "image/png": "[encoded data removed]",
      "text/plain": [
       "<Figure size 1200x600 with 3 Axes>"
      ]
     },
     "metadata": {},
     "output_type": "display_data"
    }
   ],
   "source": [
    "# visualize a training example from train_loader\n",
    "batch = next(iter(train_data_loader))\n",
    "\n",
    "batch_image = batch[\"image\"][\"data\"]\n",
    "batch_label = batch[\"label\"][\"data\"]\n",
    "\n",
    "print(f\"The shape of the data is {batch_image.shape}\")\n",
    "print(f\"The shape of the label is {batch_label.shape}\")\n",
    "\n",
    "plot_image_label(batch_image, batch_label, slice_idx=30)"
   ]
  },
  {
   "attachments": {},
   "cell_type": "markdown",
   "metadata": {},
   "source": [
    "# Define the model"
   ]
  },
  {
   "cell_type": "code",
   "execution_count": 6,
   "metadata": {},
   "outputs": [
    {
     "name": "stderr",
     "output_type": "stream",
     "text": [
      "c:\\Users\\simon\\anaconda3.gz\\envs\\torch-v2-gpu\\lib\\site-packages\\monai\\utils\\deprecate_utils.py:219: FutureWarning: monai.networks.nets.unet UNet.__init__:dimensions: Argument `dimensions` has been deprecated since version 0.6. Please use `spatial_dims` instead.\n",
      "  warn_deprecated(argname, msg, warning_category)\n"
     ]
    }
   ],
   "source": [
    "# U-Net model from monai\n",
    "model = monai.networks.nets.UNet(\n",
    "    dimensions=3,\n",
    "    in_channels=1,\n",
    "    out_channels=3,\n",
    "    channels=(8, 16, 32, 64),\n",
    "    strides=(2, 2, 2),\n",
    ")\n",
    "\n",
    "# dice cross entropy loss\n",
    "criterion = monai.losses.DiceCELoss(softmax=True)\n",
    "\n",
    "# AdamW optimizer\n",
    "optimizer = torch.optim.AdamW(model.parameters(), lr=config[\"lr\"])\n",
    "\n",
    "# device for gpu or cpu training\n",
    "device = torch.device(\"cuda\" if torch.cuda.is_available() else \"cpu\")"
   ]
  },
  {
   "attachments": {},
   "cell_type": "markdown",
   "metadata": {},
   "source": [
    "# Training Loop\n",
    "\n",
    "First define the Trainer object and then call Trainer.training_loop!"
   ]
  },
  {
   "cell_type": "code",
   "execution_count": 7,
   "metadata": {},
   "outputs": [
    {
     "name": "stdout",
     "output_type": "stream",
     "text": [
      "Trainer summary:\n",
      "  -Model: UNet\n",
      "  -Loss function: DiceCELoss\n",
      "  -Optimizer: AdamW (\n",
      "Parameter Group 0\n",
      "    amsgrad: False\n",
      "    betas: (0.9, 0.999)\n",
      "    capturable: False\n",
      "    differentiable: False\n",
      "    eps: 1e-08\n",
      "    foreach: None\n",
      "    fused: None\n",
      "    lr: 0.01\n",
      "    maximize: False\n",
      "    weight_decay: 0.01\n",
      ")\n",
      "  -Device: cuda\n",
      "  -Epochs: 10\n",
      "  -Early stopping: None\n",
      "  -Train from checkpoint: None\n",
      "  -Fine tune: False\n",
      "  -Best models dir: best_models\n",
      "  -Mixed precision: True\n",
      "  -Nit: None\n",
      "  -Random seed: 42\n",
      "\n"
     ]
    }
   ],
   "source": [
    "# defining the trainer object\n",
    "trainer = Trainer(\n",
    "    train_data_loader=train_data_loader,\n",
    "    val_data_loader=val_data_loader,\n",
    "    device=device,\n",
    "    model=model,\n",
    "    criterion=criterion,\n",
    "    optimizer=optimizer,\n",
    "    **config\n",
    ")"
   ]
  },
  {
   "cell_type": "code",
   "execution_count": 9,
   "metadata": {},
   "outputs": [
    {
     "name": "stdout",
     "output_type": "stream",
     "text": [
      "Starting training...\n",
      "\n",
      "Epoch 1/10, train loss: 0.2593, val loss: 0.2431\n",
      "Epoch 2/10, train loss: 0.2678, val loss: 0.2340\n",
      "Epoch 3/10, train loss: 0.2345, val loss: 0.2367\n",
      "Epoch 4/10, train loss: 0.2435, val loss: 0.2342\n",
      "Epoch 5/10, train loss: 0.2362, val loss: 0.2144\n",
      "Epoch 6/10, train loss: 0.2289, val loss: 0.2120\n",
      "Epoch 7/10, train loss: 0.2284, val loss: 0.2179\n",
      "Epoch 8/10, train loss: 0.2440, val loss: 0.2179\n",
      "Epoch 9/10, train loss: 0.2474, val loss: 0.2082\n",
      "Epoch 10/10, train loss: 0.2089, val loss: 0.2056\n",
      "\n",
      "Best validation loss: 0.2056\n",
      "Saving the last model...\n"
     ]
    }
   ],
   "source": [
    "# start the training loop\n",
    "trainer.training_loop()"
   ]
  },
  {
   "attachments": {},
   "cell_type": "markdown",
   "metadata": {},
   "source": [
    "# Testing the model to see the predictions"
   ]
  },
  {
   "cell_type": "code",
   "execution_count": 16,
   "metadata": {},
   "outputs": [
    {
     "name": "stdout",
     "output_type": "stream",
     "text": [
      "\n"
     ]
    }
   ],
   "source": [
    "# load previously trained model from path\n",
    "model_path = r\"best_models\\my_model.pth\"\n",
    "\n",
    "\n",
    "inf_model = model\n",
    "inf_model.load_state_dict(torch.load(model_path))\n",
    "inf_model.to(device)\n",
    "inf_model.eval()\n",
    "print(\"\")"
   ]
  },
  {
   "cell_type": "code",
   "execution_count": 23,
   "metadata": {},
   "outputs": [
    {
     "name": "stdout",
     "output_type": "stream",
     "text": [
      "The shape of the sample is torch.Size([16, 1, 48, 64, 48])\n",
      "The shape of the output is torch.Size([16, 3, 48, 64, 48])\n",
      "The shape of the output argmax is torch.Size([16, 1, 48, 64, 48])\n"
     ]
    }
   ],
   "source": [
    "with torch.no_grad():\n",
    "    # load first test sample\n",
    "    sample = next(iter(test_data_loader))[\"image\"][\"data\"]\n",
    "\n",
    "    # perform inference and get the argmax for the final prediction\n",
    "    output = inf_model(sample.to(device))\n",
    "    output_argmax = torch.argmax(output, dim=1, keepdim=True)\n",
    "\n",
    "print(f\"The shape of the sample is {sample.shape}\")\n",
    "print(f\"The shape of the output is {output.shape}\")\n",
    "print(f\"The shape of the output argmax is {output_argmax.shape}\")"
   ]
  },
  {
   "cell_type": "code",
   "execution_count": 24,
   "metadata": {},
   "outputs": [
    {
     "data": {
      "image/png": "[encoded data removed]",
      "text/plain": [
       "<Figure size 1200x600 with 3 Axes>"
      ]
     },
     "metadata": {},
     "output_type": "display_data"
    }
   ],
   "source": [
    "# plot the input, the inferred output and the overlay of the two\n",
    "plot_image_label(sample, np.array(output_argmax.cpu()), slice_idx=20)"
   ]
  },
  {
   "attachments": {},
   "cell_type": "markdown",
   "metadata": {},
   "source": [
    "# Fine-tuning thoughts\n",
    "\n",
    "To understand how to fine tune the model, I decided to print the model structure and shapes of the parameters it is made of. Then I saw that the last 2 sets of parameters corresponded to the last ConvTranspose3d and the corresponding bias, with shapes `torch.Size([16, 3, 3, 3, 3])` and `torch.Size([3])`. \n",
    "\n",
    "Hence I decided to freeze all the other weights and only keep thos for the fine-tuning."
   ]
  },
  {
   "cell_type": "code",
   "execution_count": 13,
   "metadata": {},
   "outputs": [
    {
     "data": {
      "text/plain": [
       "UNet(\n",
       "  (model): Sequential(\n",
       "    (0): Convolution(\n",
       "      (conv): Conv3d(1, 8, kernel_size=(3, 3, 3), stride=(2, 2, 2), padding=(1, 1, 1))\n",
       "      (adn): ADN(\n",
       "        (N): InstanceNorm3d(8, eps=1e-05, momentum=0.1, affine=False, track_running_stats=False)\n",
       "        (D): Dropout(p=0.0, inplace=False)\n",
       "        (A): PReLU(num_parameters=1)\n",
       "      )\n",
       "    )\n",
       "    (1): SkipConnection(\n",
       "      (submodule): Sequential(\n",
       "        (0): Convolution(\n",
       "          (conv): Conv3d(8, 16, kernel_size=(3, 3, 3), stride=(2, 2, 2), padding=(1, 1, 1))\n",
       "          (adn): ADN(\n",
       "            (N): InstanceNorm3d(16, eps=1e-05, momentum=0.1, affine=False, track_running_stats=False)\n",
       "            (D): Dropout(p=0.0, inplace=False)\n",
       "            (A): PReLU(num_parameters=1)\n",
       "          )\n",
       "        )\n",
       "        (1): SkipConnection(\n",
       "          (submodule): Sequential(\n",
       "            (0): Convolution(\n",
       "              (conv): Conv3d(16, 32, kernel_size=(3, 3, 3), stride=(2, 2, 2), padding=(1, 1, 1))\n",
       "              (adn): ADN(\n",
       "                (N): InstanceNorm3d(32, eps=1e-05, momentum=0.1, affine=False, track_running_stats=False)\n",
       "                (D): Dropout(p=0.0, inplace=False)\n",
       "                (A): PReLU(num_parameters=1)\n",
       "              )\n",
       "            )\n",
       "            (1): SkipConnection(\n",
       "              (submodule): Convolution(\n",
       "                (conv): Conv3d(32, 64, kernel_size=(3, 3, 3), stride=(1, 1, 1), padding=(1, 1, 1))\n",
       "                (adn): ADN(\n",
       "                  (N): InstanceNorm3d(64, eps=1e-05, momentum=0.1, affine=False, track_running_stats=False)\n",
       "                  (D): Dropout(p=0.0, inplace=False)\n",
       "                  (A): PReLU(num_parameters=1)\n",
       "                )\n",
       "              )\n",
       "            )\n",
       "            (2): Convolution(\n",
       "              (conv): ConvTranspose3d(96, 16, kernel_size=(3, 3, 3), stride=(2, 2, 2), padding=(1, 1, 1), output_padding=(1, 1, 1))\n",
       "              (adn): ADN(\n",
       "                (N): InstanceNorm3d(16, eps=1e-05, momentum=0.1, affine=False, track_running_stats=False)\n",
       "                (D): Dropout(p=0.0, inplace=False)\n",
       "                (A): PReLU(num_parameters=1)\n",
       "              )\n",
       "            )\n",
       "          )\n",
       "        )\n",
       "        (2): Convolution(\n",
       "          (conv): ConvTranspose3d(32, 8, kernel_size=(3, 3, 3), stride=(2, 2, 2), padding=(1, 1, 1), output_padding=(1, 1, 1))\n",
       "          (adn): ADN(\n",
       "            (N): InstanceNorm3d(8, eps=1e-05, momentum=0.1, affine=False, track_running_stats=False)\n",
       "            (D): Dropout(p=0.0, inplace=False)\n",
       "            (A): PReLU(num_parameters=1)\n",
       "          )\n",
       "        )\n",
       "      )\n",
       "    )\n",
       "    (2): Convolution(\n",
       "      (conv): ConvTranspose3d(16, 3, kernel_size=(3, 3, 3), stride=(2, 2, 2), padding=(1, 1, 1), output_padding=(1, 1, 1))\n",
       "    )\n",
       "  )\n",
       ")"
      ]
     },
     "execution_count": 13,
     "metadata": {},
     "output_type": "execute_result"
    }
   ],
   "source": [
    "model"
   ]
  },
  {
   "cell_type": "code",
   "execution_count": 14,
   "metadata": {},
   "outputs": [
    {
     "name": "stdout",
     "output_type": "stream",
     "text": [
      "torch.Size([8, 1, 3, 3, 3])\n",
      "torch.Size([8])\n",
      "torch.Size([1])\n",
      "torch.Size([16, 8, 3, 3, 3])\n",
      "torch.Size([16])\n",
      "torch.Size([1])\n",
      "torch.Size([32, 16, 3, 3, 3])\n",
      "torch.Size([32])\n",
      "torch.Size([1])\n",
      "torch.Size([64, 32, 3, 3, 3])\n",
      "torch.Size([64])\n",
      "torch.Size([1])\n",
      "torch.Size([96, 16, 3, 3, 3])\n",
      "torch.Size([16])\n",
      "torch.Size([1])\n",
      "torch.Size([32, 8, 3, 3, 3])\n",
      "torch.Size([8])\n",
      "torch.Size([1])\n",
      "torch.Size([16, 3, 3, 3, 3])\n",
      "torch.Size([3])\n"
     ]
    }
   ],
   "source": [
    "for param in list(model.parameters()):\n",
    "    print(param.shape)"
   ]
  }
 ],
 "metadata": {
  "kernelspec": {
   "display_name": "ParisBI",
   "language": "python",
   "name": "python3"
  },
  "language_info": {
   "codemirror_mode": {
    "name": "ipython",
    "version": 3
   },
   "file_extension": ".py",
   "mimetype": "text/x-python",
   "name": "python",
   "nbconvert_exporter": "python",
   "pygments_lexer": "ipython3",
   "version": "3.9.16"
  },
  "orig_nbformat": 4
 },
 "nbformat": 4,
 "nbformat_minor": 2
}
